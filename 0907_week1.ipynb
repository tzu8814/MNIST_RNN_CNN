{
  "nbformat": 4,
  "nbformat_minor": 0,
  "metadata": {
    "colab": {
      "provenance": [],
      "gpuType": "T4"
    },
    "kernelspec": {
      "name": "python3",
      "display_name": "Python 3"
    },
    "language_info": {
      "name": "python"
    },
    "accelerator": "GPU"
  },
  "cells": [
    {
      "cell_type": "markdown",
      "source": [
        "7111029041 蔡子靖"
      ],
      "metadata": {
        "id": "W2t13nDg_IUc"
      }
    },
    {
      "cell_type": "markdown",
      "source": [
        "## CNN"
      ],
      "metadata": {
        "id": "hM2kORK0Ldb6"
      }
    },
    {
      "cell_type": "markdown",
      "source": [
        "### 讀取MNIST資料"
      ],
      "metadata": {
        "id": "KfuZGzlRwHIj"
      }
    },
    {
      "cell_type": "code",
      "execution_count": 31,
      "metadata": {
        "id": "0pAq142RLY27"
      },
      "outputs": [],
      "source": [
        "from keras.utils import np_utils\n",
        "import numpy as np\n",
        "from keras.datasets import mnist\n",
        "\n",
        "np.random.seed(10)\n",
        "\n",
        "#get MNIST\n",
        "(x_train , y_train),(x_test,y_test)=mnist.load_data()\n",
        "\n",
        "#translate data type\n",
        "x_train4=x_train.reshape(x_train.shape[0],28,28,1).astype('float32')\n",
        "x_test4=x_test.reshape(x_test.shape[0],28,28,1).astype('float32')"
      ]
    },
    {
      "cell_type": "markdown",
      "source": [
        "### 資料前處理"
      ],
      "metadata": {
        "id": "eRkEldvowQaD"
      }
    },
    {
      "cell_type": "code",
      "source": [
        "#standardize\n",
        "x_train4_nor = x_train4 /255\n",
        "x_test_nor=x_test4 / 255\n",
        "\n",
        "#Onehot encoding\n",
        "y_train_one=np_utils.to_categorical(y_train)\n",
        "y_test_one=np_utils.to_categorical(y_test)"
      ],
      "metadata": {
        "id": "ox1Hham-wC1j"
      },
      "execution_count": 32,
      "outputs": []
    },
    {
      "cell_type": "markdown",
      "source": [
        "### 建立卷積及池化層"
      ],
      "metadata": {
        "id": "AsFfDcoOwn4r"
      }
    },
    {
      "cell_type": "code",
      "source": [
        "from keras.layers import Dense,Dropout,Flatten,Conv2D,MaxPooling2D\n",
        "from keras.models import Sequential\n",
        "\n",
        "model = Sequential()\n",
        "\n",
        "model.add(Conv2D(filters=16,\n",
        "                 kernel_size=(5,5),\n",
        "                 padding='same',\n",
        "                 input_shape=(28,28,1),\n",
        "                 activation='relu',\n",
        "                 name='conv2d_1'\n",
        "                ))\n",
        "model.add(MaxPooling2D(pool_size=(2,2),name='max_pooling2d_1'))\n",
        "model.add(Conv2D(filters=36,\n",
        "                 kernel_size=(5,5),\n",
        "                 padding='same',\n",
        "                 activation='relu',\n",
        "                 name='conv2d_2'\n",
        "                 ))\n",
        "model.add(MaxPooling2D(pool_size=(2,2), name='max_pooling2d_2'))\n",
        "model.add(Dropout(0.25,name='dropout_1'))\n",
        "model.add(Flatten(name='flatten_1'))\n",
        "model.add(Dense(128,activation='relu',name='dense_1'))\n",
        "model.add(Dropout(0.25,name='dropout_2'))\n",
        "model.add(Dense(10,activation='softmax',name='dense_2'))"
      ],
      "metadata": {
        "id": "9Or7mL_UvJF8"
      },
      "execution_count": 33,
      "outputs": []
    },
    {
      "cell_type": "code",
      "source": [
        "model.summary()\n",
        "print(\"\")"
      ],
      "metadata": {
        "colab": {
          "base_uri": "https://localhost:8080/"
        },
        "id": "4PpdtTZPx3GB",
        "outputId": "f522066f-2c2f-4b4f-b356-a0002ddfa815"
      },
      "execution_count": 34,
      "outputs": [
        {
          "output_type": "stream",
          "name": "stdout",
          "text": [
            "Model: \"sequential_1\"\n",
            "_________________________________________________________________\n",
            " Layer (type)                Output Shape              Param #   \n",
            "=================================================================\n",
            " conv2d_1 (Conv2D)           (None, 28, 28, 16)        416       \n",
            "                                                                 \n",
            " max_pooling2d_1 (MaxPooling  (None, 14, 14, 16)       0         \n",
            " 2D)                                                             \n",
            "                                                                 \n",
            " conv2d_2 (Conv2D)           (None, 14, 14, 36)        14436     \n",
            "                                                                 \n",
            " max_pooling2d_2 (MaxPooling  (None, 7, 7, 36)         0         \n",
            " 2D)                                                             \n",
            "                                                                 \n",
            " dropout_1 (Dropout)         (None, 7, 7, 36)          0         \n",
            "                                                                 \n",
            " flatten_1 (Flatten)         (None, 1764)              0         \n",
            "                                                                 \n",
            " dense_1 (Dense)             (None, 128)               225920    \n",
            "                                                                 \n",
            " dropout_2 (Dropout)         (None, 128)               0         \n",
            "                                                                 \n",
            " dense_2 (Dense)             (None, 10)                1290      \n",
            "                                                                 \n",
            "=================================================================\n",
            "Total params: 242,062\n",
            "Trainable params: 242,062\n",
            "Non-trainable params: 0\n",
            "_________________________________________________________________\n",
            "\n"
          ]
        }
      ]
    },
    {
      "cell_type": "code",
      "source": [
        "model.compile(loss='categorical_crossentropy',\n",
        "              optimizer='adam',\n",
        "              metrics=['accuracy']\n",
        "             )"
      ],
      "metadata": {
        "id": "SVuGE4S4vLh8"
      },
      "execution_count": 35,
      "outputs": []
    },
    {
      "cell_type": "markdown",
      "source": [
        "### 進行訓練"
      ],
      "metadata": {
        "id": "o89sLNYv0aGt"
      }
    },
    {
      "cell_type": "code",
      "source": [
        "train_history=model.fit(x=x_train4_nor,y=y_train_one,validation_split=0.1,epochs=20,batch_size=300,verbose=2)"
      ],
      "metadata": {
        "colab": {
          "base_uri": "https://localhost:8080/"
        },
        "id": "QwsHpgrQvN0m",
        "outputId": "afd0e723-aef4-4533-c8ac-0e5a5f1c353f"
      },
      "execution_count": 36,
      "outputs": [
        {
          "output_type": "stream",
          "name": "stdout",
          "text": [
            "Epoch 1/20\n",
            "180/180 - 3s - loss: 0.4063 - accuracy: 0.8765 - val_loss: 0.0764 - val_accuracy: 0.9780 - 3s/epoch - 16ms/step\n",
            "Epoch 2/20\n",
            "180/180 - 1s - loss: 0.1015 - accuracy: 0.9695 - val_loss: 0.0532 - val_accuracy: 0.9847 - 1s/epoch - 6ms/step\n",
            "Epoch 3/20\n",
            "180/180 - 1s - loss: 0.0720 - accuracy: 0.9780 - val_loss: 0.0393 - val_accuracy: 0.9882 - 1s/epoch - 6ms/step\n",
            "Epoch 4/20\n",
            "180/180 - 1s - loss: 0.0570 - accuracy: 0.9829 - val_loss: 0.0416 - val_accuracy: 0.9865 - 1s/epoch - 7ms/step\n",
            "Epoch 5/20\n",
            "180/180 - 1s - loss: 0.0480 - accuracy: 0.9855 - val_loss: 0.0338 - val_accuracy: 0.9898 - 1s/epoch - 7ms/step\n",
            "Epoch 6/20\n",
            "180/180 - 1s - loss: 0.0411 - accuracy: 0.9872 - val_loss: 0.0305 - val_accuracy: 0.9905 - 1s/epoch - 7ms/step\n",
            "Epoch 7/20\n",
            "180/180 - 1s - loss: 0.0348 - accuracy: 0.9890 - val_loss: 0.0285 - val_accuracy: 0.9920 - 1s/epoch - 7ms/step\n",
            "Epoch 8/20\n",
            "180/180 - 1s - loss: 0.0337 - accuracy: 0.9891 - val_loss: 0.0319 - val_accuracy: 0.9908 - 1s/epoch - 7ms/step\n",
            "Epoch 9/20\n",
            "180/180 - 1s - loss: 0.0292 - accuracy: 0.9904 - val_loss: 0.0272 - val_accuracy: 0.9930 - 1s/epoch - 6ms/step\n",
            "Epoch 10/20\n",
            "180/180 - 1s - loss: 0.0261 - accuracy: 0.9916 - val_loss: 0.0256 - val_accuracy: 0.9928 - 1s/epoch - 6ms/step\n",
            "Epoch 11/20\n",
            "180/180 - 1s - loss: 0.0247 - accuracy: 0.9914 - val_loss: 0.0290 - val_accuracy: 0.9918 - 1s/epoch - 6ms/step\n",
            "Epoch 12/20\n",
            "180/180 - 1s - loss: 0.0217 - accuracy: 0.9930 - val_loss: 0.0278 - val_accuracy: 0.9928 - 1s/epoch - 6ms/step\n",
            "Epoch 13/20\n",
            "180/180 - 1s - loss: 0.0214 - accuracy: 0.9928 - val_loss: 0.0296 - val_accuracy: 0.9913 - 1s/epoch - 6ms/step\n",
            "Epoch 14/20\n",
            "180/180 - 1s - loss: 0.0201 - accuracy: 0.9936 - val_loss: 0.0300 - val_accuracy: 0.9918 - 1s/epoch - 6ms/step\n",
            "Epoch 15/20\n",
            "180/180 - 1s - loss: 0.0170 - accuracy: 0.9944 - val_loss: 0.0275 - val_accuracy: 0.9925 - 1s/epoch - 8ms/step\n",
            "Epoch 16/20\n",
            "180/180 - 1s - loss: 0.0175 - accuracy: 0.9942 - val_loss: 0.0249 - val_accuracy: 0.9933 - 1s/epoch - 7ms/step\n",
            "Epoch 17/20\n",
            "180/180 - 2s - loss: 0.0147 - accuracy: 0.9953 - val_loss: 0.0328 - val_accuracy: 0.9935 - 2s/epoch - 13ms/step\n",
            "Epoch 18/20\n",
            "180/180 - 1s - loss: 0.0150 - accuracy: 0.9950 - val_loss: 0.0278 - val_accuracy: 0.9932 - 1s/epoch - 6ms/step\n",
            "Epoch 19/20\n",
            "180/180 - 1s - loss: 0.0130 - accuracy: 0.9958 - val_loss: 0.0290 - val_accuracy: 0.9933 - 1s/epoch - 6ms/step\n",
            "Epoch 20/20\n",
            "180/180 - 1s - loss: 0.0139 - accuracy: 0.9954 - val_loss: 0.0269 - val_accuracy: 0.9928 - 1s/epoch - 6ms/step\n"
          ]
        }
      ]
    },
    {
      "cell_type": "markdown",
      "source": [
        "### 圖形公式"
      ],
      "metadata": {
        "id": "iX1e-Wp40VxT"
      }
    },
    {
      "cell_type": "code",
      "source": [
        "import matplotlib.pyplot as plt\n",
        "def plot_image(image):\n",
        "    fig = plt.gcf()\n",
        "    fig.set_size_inches(2,2)\n",
        "    plt.imshow(image, cmap='binary')\n",
        "    plt.show()\n",
        "\n",
        "def plot_images_labels_predict(images, labels, prediction, idx, num=10):\n",
        "    fig = plt.gcf()\n",
        "    fig.set_size_inches(12, 14)\n",
        "    if num > 25: num = 25\n",
        "    for i in range(0, num):\n",
        "        ax=plt.subplot(5,5, 1+i)\n",
        "        ax.imshow(images[idx], cmap='binary')\n",
        "        title = \"l=\" + str(labels[idx])\n",
        "        if len(prediction) > 0:\n",
        "            title = \"l={},p={}\".format(str(labels[idx]), str(prediction[idx]))\n",
        "        else:\n",
        "            title = \"l={}\".format(str(labels[idx]))\n",
        "        ax.set_title(title, fontsize=10)\n",
        "        ax.set_xticks([]); ax.set_yticks([])\n",
        "        idx+=1\n",
        "    plt.show()\n",
        "\n",
        "def show_train_history(train_history, train, validation):\n",
        "    plt.plot(train_history.history[train])\n",
        "    plt.plot(train_history.history[validation])\n",
        "    plt.title('Train History')\n",
        "    plt.ylabel(train)\n",
        "    plt.xlabel('Epoch')\n",
        "    plt.legend(['train', 'validation'], loc='upper left')\n",
        "    plt.show()"
      ],
      "metadata": {
        "id": "F9WYEZVXvSxs"
      },
      "execution_count": 37,
      "outputs": []
    },
    {
      "cell_type": "markdown",
      "source": [
        "### model accuracy"
      ],
      "metadata": {
        "id": "2HQ9x9uY0Pvo"
      }
    },
    {
      "cell_type": "code",
      "source": [
        "show_train_history(train_history, 'accuracy', 'val_accuracy')"
      ],
      "metadata": {
        "colab": {
          "base_uri": "https://localhost:8080/",
          "height": 472
        },
        "id": "9z0onQe2yqY_",
        "outputId": "af1f470d-8d8b-4179-ffd3-afa7d3aef891"
      },
      "execution_count": 38,
      "outputs": [
        {
          "output_type": "display_data",
          "data": {
            "text/plain": [
              "<Figure size 640x480 with 1 Axes>"
            ],
            "image/png": "[encoded data removed]"
          },
          "metadata": {}
        }
      ]
    },
    {
      "cell_type": "markdown",
      "source": [
        "### evalution"
      ],
      "metadata": {
        "id": "Ff1s-Mud0LNt"
      }
    },
    {
      "cell_type": "code",
      "source": [
        "scores = model.evaluate(x_test_nor, y_test_one)\n",
        "print()\n",
        "print(\"\\t[Info] Accuracy of testing data = {:2.1f}%\".format(scores[1]*100.0))"
      ],
      "metadata": {
        "colab": {
          "base_uri": "https://localhost:8080/"
        },
        "id": "_F6_Own7y3eG",
        "outputId": "721b2013-cf95-46b1-d401-c6865a3530d3"
      },
      "execution_count": 39,
      "outputs": [
        {
          "output_type": "stream",
          "name": "stdout",
          "text": [
            "313/313 [==============================] - 2s 4ms/step - loss: 0.0223 - accuracy: 0.9936\n",
            "\n",
            "\t[Info] Accuracy of testing data = 99.4%\n"
          ]
        }
      ]
    },
    {
      "cell_type": "markdown",
      "source": [
        "### 預測結果"
      ],
      "metadata": {
        "id": "P_kSQdOL0GYf"
      }
    },
    {
      "cell_type": "code",
      "source": [
        "print(\"\\t[Info] Making prediction of X_Test\")\n",
        "prediction = np.argmax(model.predict(x_test_nor), axis=-1)  # Making prediction and save result to prediction\n",
        "print()\n",
        "print(\"\\t[Info] Show 10 prediction result (From 240):\")\n",
        "print(\"%s\\n\" % (prediction[240:250]))"
      ],
      "metadata": {
        "colab": {
          "base_uri": "https://localhost:8080/"
        },
        "id": "VBXxNk1ovUWx",
        "outputId": "a25d4fdf-096a-47eb-8d64-8d17907d7c81"
      },
      "execution_count": 40,
      "outputs": [
        {
          "output_type": "stream",
          "name": "stdout",
          "text": [
            "\t[Info] Making prediction of X_Test\n",
            "313/313 [==============================] - 1s 3ms/step\n",
            "\n",
            "\t[Info] Show 10 prediction result (From 240):\n",
            "[5 9 8 7 2 3 0 4 4 2]\n",
            "\n"
          ]
        }
      ]
    },
    {
      "cell_type": "markdown",
      "source": [
        "### 前十筆結果"
      ],
      "metadata": {
        "id": "iUXGwllx0Bxa"
      }
    },
    {
      "cell_type": "code",
      "source": [
        "plot_images_labels_predict(x_test, y_test, prediction, idx=240)"
      ],
      "metadata": {
        "colab": {
          "base_uri": "https://localhost:8080/",
          "height": 439
        },
        "id": "7IyF4SBtvYkz",
        "outputId": "dbb2b2e4-7df7-44f9-c240-4bf6362039af"
      },
      "execution_count": 41,
      "outputs": [
        {
          "output_type": "display_data",
          "data": {
            "text/plain": [
              "<Figure size 1200x1400 with 10 Axes>"
            ],
            "image/png": "[encoded data removed]"
          },
          "metadata": {}
        }
      ]
    },
    {
      "cell_type": "markdown",
      "source": [
        "## DNN"
      ],
      "metadata": {
        "id": "P3Tgakhm0ctG"
      }
    },
    {
      "cell_type": "markdown",
      "source": [
        "### 取得資料"
      ],
      "metadata": {
        "id": "2glOkmiH0hyZ"
      }
    },
    {
      "cell_type": "code",
      "source": [
        "import numpy as np\n",
        "import matplotlib.pyplot as plt\n",
        "from keras.datasets import mnist\n",
        "from keras.models import Sequential\n",
        "from keras.layers import Dense, Flatten\n",
        "from keras.utils import to_categorical\n",
        "from sklearn.metrics import accuracy_score\n",
        "\n",
        "(X_train, y_train), (X_test, y_test) = mnist.load_data()\n",
        "\n",
        "X_train = X_train.reshape(X_train.shape[0], -1)\n",
        "X_test = X_test.reshape(X_test.shape[0], -1)"
      ],
      "metadata": {
        "id": "OtRrqIiQ0sIE"
      },
      "execution_count": 42,
      "outputs": []
    },
    {
      "cell_type": "markdown",
      "source": [
        "### 資料預處理"
      ],
      "metadata": {
        "id": "4JCryYqf0uCT"
      }
    },
    {
      "cell_type": "code",
      "source": [
        "# 對像素值進行標準化處理\n",
        "X_train = X_train.astype('float32') / 255\n",
        "X_test = X_test.astype('float32') / 255\n",
        "\n",
        "# 將目標變量進行One-Hot編碼\n",
        "y_train = to_categorical(y_train, 10)\n",
        "y_test = to_categorical(y_test, 10)"
      ],
      "metadata": {
        "id": "qmEKcS5u0wZ2"
      },
      "execution_count": 43,
      "outputs": []
    },
    {
      "cell_type": "markdown",
      "source": [
        "### 建構模型"
      ],
      "metadata": {
        "id": "N0ivG7NC07TR"
      }
    },
    {
      "cell_type": "code",
      "source": [
        "model = Sequential()\n",
        "model.add(Dense(128, activation='relu', input_shape=(784,)))\n",
        "model.add(Dense(64, activation='relu'))\n",
        "model.add(Dense(10, activation='softmax'))"
      ],
      "metadata": {
        "id": "l9D9sVse05by"
      },
      "execution_count": 44,
      "outputs": []
    },
    {
      "cell_type": "markdown",
      "source": [
        "### 訓練模型"
      ],
      "metadata": {
        "id": "fNd8_Mc21EMr"
      }
    },
    {
      "cell_type": "code",
      "source": [
        "model.compile(loss='categorical_crossentropy', optimizer='adam', metrics=['accuracy'])\n",
        "\n",
        "history = model.fit(X_train, y_train, validation_split=0.2, epochs=10, batch_size=32, verbose=1)"
      ],
      "metadata": {
        "colab": {
          "base_uri": "https://localhost:8080/"
        },
        "id": "RKSMyREd09au",
        "outputId": "92a02f79-7d4a-4aed-f9bb-fd378161de08"
      },
      "execution_count": 45,
      "outputs": [
        {
          "output_type": "stream",
          "name": "stdout",
          "text": [
            "Epoch 1/10\n",
            "1500/1500 [==============================] - 7s 3ms/step - loss: 0.2778 - accuracy: 0.9194 - val_loss: 0.1372 - val_accuracy: 0.9612\n",
            "Epoch 2/10\n",
            "1500/1500 [==============================] - 6s 4ms/step - loss: 0.1147 - accuracy: 0.9655 - val_loss: 0.1090 - val_accuracy: 0.9668\n",
            "Epoch 3/10\n",
            "1500/1500 [==============================] - 6s 4ms/step - loss: 0.0786 - accuracy: 0.9763 - val_loss: 0.1061 - val_accuracy: 0.9692\n",
            "Epoch 4/10\n",
            "1500/1500 [==============================] - 6s 4ms/step - loss: 0.0585 - accuracy: 0.9819 - val_loss: 0.0974 - val_accuracy: 0.9712\n",
            "Epoch 5/10\n",
            "1500/1500 [==============================] - 5s 3ms/step - loss: 0.0454 - accuracy: 0.9850 - val_loss: 0.1114 - val_accuracy: 0.9702\n",
            "Epoch 6/10\n",
            "1500/1500 [==============================] - 5s 3ms/step - loss: 0.0358 - accuracy: 0.9879 - val_loss: 0.0997 - val_accuracy: 0.9734\n",
            "Epoch 7/10\n",
            "1500/1500 [==============================] - 5s 4ms/step - loss: 0.0310 - accuracy: 0.9899 - val_loss: 0.1025 - val_accuracy: 0.9712\n",
            "Epoch 8/10\n",
            "1500/1500 [==============================] - 5s 3ms/step - loss: 0.0256 - accuracy: 0.9914 - val_loss: 0.1099 - val_accuracy: 0.9730\n",
            "Epoch 9/10\n",
            "1500/1500 [==============================] - 5s 4ms/step - loss: 0.0238 - accuracy: 0.9918 - val_loss: 0.1126 - val_accuracy: 0.9723\n",
            "Epoch 10/10\n",
            "1500/1500 [==============================] - 5s 3ms/step - loss: 0.0177 - accuracy: 0.9939 - val_loss: 0.1084 - val_accuracy: 0.9750\n"
          ]
        }
      ]
    },
    {
      "cell_type": "markdown",
      "source": [
        "### Model accuracy"
      ],
      "metadata": {
        "id": "EW0DmCq-9hgT"
      }
    },
    {
      "cell_type": "code",
      "source": [
        "plt.plot(history.history['accuracy'], label='Train Accuracy')\n",
        "plt.plot(history.history['val_accuracy'], label='Validation Accuracy')\n",
        "plt.xlabel('Epoch')\n",
        "plt.ylabel('Accuracy')\n",
        "plt.legend()\n",
        "plt.show()"
      ],
      "metadata": {
        "colab": {
          "base_uri": "https://localhost:8080/",
          "height": 449
        },
        "id": "UnD5t9j00-D9",
        "outputId": "f774213c-2be3-43bb-b9f6-881e093ae9b5"
      },
      "execution_count": 46,
      "outputs": [
        {
          "output_type": "display_data",
          "data": {
            "text/plain": [
              "<Figure size 640x480 with 1 Axes>"
            ],
            "image/png": "[encoded data removed]"
          },
          "metadata": {}
        }
      ]
    },
    {
      "cell_type": "markdown",
      "source": [
        "### 進行預測"
      ],
      "metadata": {
        "id": "NfSPrkZi9mk8"
      }
    },
    {
      "cell_type": "code",
      "source": [
        "y_pred = model.predict(X_test)\n",
        "y_pred_classes = np.argmax(y_pred, axis=1)\n",
        "y_true_classes = np.argmax(y_test, axis=1)"
      ],
      "metadata": {
        "colab": {
          "base_uri": "https://localhost:8080/"
        },
        "id": "ysJwQL9N1BSk",
        "outputId": "1461b40c-fb0c-49e3-9986-3f3be8075cfc"
      },
      "execution_count": 47,
      "outputs": [
        {
          "output_type": "stream",
          "name": "stdout",
          "text": [
            "313/313 [==============================] - 1s 2ms/step\n"
          ]
        }
      ]
    },
    {
      "cell_type": "code",
      "source": [
        "accuracy = accuracy_score(y_true_classes, y_pred_classes)\n",
        "print(\"預測準確率：\", accuracy)"
      ],
      "metadata": {
        "colab": {
          "base_uri": "https://localhost:8080/"
        },
        "id": "KbLT8pcB1Ca8",
        "outputId": "3b62083c-f502-4169-e7ec-cd240baf8864"
      },
      "execution_count": 48,
      "outputs": [
        {
          "output_type": "stream",
          "name": "stdout",
          "text": [
            "預測準確率： 0.978\n"
          ]
        }
      ]
    }
  ]
}